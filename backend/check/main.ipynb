{
 "cells": [
  {
   "cell_type": "code",
   "execution_count": 2,
   "metadata": {},
   "outputs": [],
   "source": [
    "from fastapi import FastAPI\n",
    "from typing import List\n",
    "from pydantic import BaseModel\n",
    "\n",
    "app = FastAPI()\n",
    "\n",
    "# Creating a class for the attributes input to the ML model.\n",
    "class ArrayCanvas(BaseModel):\n",
    "\tPh : float\n",
    "\tHardness :float\n",
    "\tSolids : float\n",
    "\tChloramines : float\n",
    "\tSulfate : float\n",
    "\tConductivity : float\n",
    "\tOrganic_carbon : float\n",
    "\tTrihalomethanes : float\n",
    "\tTurbidity : float"
   ]
  },
  {
   "cell_type": "code",
   "execution_count": 2,
   "metadata": {},
   "outputs": [],
   "source": [
    "def predict_cnn(data: ArrayCanvas):\n",
    "    received_array = data['data']\n",
    "    return received_array"
   ]
  },
  {
   "cell_type": "code",
   "execution_count": 4,
   "metadata": {},
   "outputs": [
    {
     "data": {
      "text/plain": [
       "[1.2124, 2313]"
      ]
     },
     "execution_count": 4,
     "metadata": {},
     "output_type": "execute_result"
    }
   ],
   "source": [
    "predict_cnn({'data':[1.2124, 2313]})"
   ]
  },
  {
   "cell_type": "code",
   "execution_count": 3,
   "metadata": {},
   "outputs": [],
   "source": [
    "import pandas as pd"
   ]
  },
  {
   "cell_type": "code",
   "execution_count": 4,
   "metadata": {},
   "outputs": [],
   "source": [
    "img_resize_lanczos = pd.read_pickle('./img_resize.pkl')"
   ]
  },
  {
   "cell_type": "code",
   "execution_count": 5,
   "metadata": {},
   "outputs": [
    {
     "data": {
      "text/plain": [
       "<All keys matched successfully>"
      ]
     },
     "execution_count": 5,
     "metadata": {},
     "output_type": "execute_result"
    }
   ],
   "source": [
    "# load model\n",
    "import torch\n",
    "import torch.nn as nn\n",
    "import torch.nn.functional as f\n",
    "import numpy as np\n",
    "\n",
    "class CNN(nn.Module):\n",
    "    def __init__(self):\n",
    "        super().__init__()\n",
    "        self.conv1 = nn.Conv2d(1, 16, kernel_size=3, stride=1, padding=1)\n",
    "        self.conv2 = nn.Conv2d(16, 32, kernel_size=3, stride=1, padding=1)\n",
    "        self.l1 = nn.Linear(7*7*32, 1024)\n",
    "        self.l2 = nn.Linear(1024, 1024)\n",
    "        self.l3 = nn.Linear(1024, 10)\n",
    "        self.act = nn.ReLU()\n",
    "        self.pool = nn.MaxPool2d(2, 2)\n",
    "\n",
    "    def forward(self, x):                       \n",
    "        # 入力画像Shape: [batch, 1, 28, 28]\n",
    "        h = self.pool(self.act(self.conv1(x)))  # [batch, 16, 14, 14]\n",
    "        h = self.pool(self.act(self.conv2(h)))  # [batch, 32, 7, 7]\n",
    "        h = h.view(h.size()[0], -1) # 配列サイズを変更\n",
    "        h = self.act(self.l1(h))\n",
    "        h = self.act(self.l2(h))\n",
    "        h = self.l3(h)\n",
    "        return h\n",
    "model = CNN()\n",
    "model.load_state_dict(torch.load('../frontend/model/cnn.pt', map_location=torch.device('cpu')))"
   ]
  },
  {
   "cell_type": "code",
   "execution_count": 25,
   "metadata": {},
   "outputs": [],
   "source": [
    "ar_resize = np.array(img_resize_lanczos)\n",
    "ar_resize = ar_resize - ar_resize.min()\n",
    "ar_resize = ar_resize/ar_resize.max()"
   ]
  },
  {
   "cell_type": "code",
   "execution_count": 26,
   "metadata": {},
   "outputs": [],
   "source": [
    "lst_data = ar_resize.tolist()"
   ]
  },
  {
   "cell_type": "code",
   "execution_count": 34,
   "metadata": {},
   "outputs": [],
   "source": [
    "def predict_cnn(lst_data):\n",
    "    ar_data = np.array(lst_data)\n",
    "    # newaxis\n",
    "    ar_data = ar_data[np.newaxis, np.newaxis, :, :]\n",
    "    # numpy\n",
    "    ts = torch.from_numpy(ar_data.astype('float32'))\n",
    "    # model\n",
    "    output = model(ts)[0]\n",
    "    ar_output = pd.Series(output.detach().numpy())\n",
    "    ar_softmax_output = np.exp(ar_output)/np.sum(np.exp(ar_output))\n",
    "    dict_output = ar_softmax_output.to_dict()\n",
    "    return dict_output"
   ]
  },
  {
   "cell_type": "code",
   "execution_count": 33,
   "metadata": {},
   "outputs": [
    {
     "data": {
      "text/plain": [
       "{0: 5.825607877341099e-05,\n",
       " 1: 0.0007851560949347913,\n",
       " 2: 0.0240333192050457,\n",
       " 3: 0.018507152795791626,\n",
       " 4: 0.00010102800297318026,\n",
       " 5: 7.31652180547826e-05,\n",
       " 6: 3.090463451371761e-06,\n",
       " 7: 0.942549467086792,\n",
       " 8: 0.009674769826233387,\n",
       " 9: 0.004214681684970856}"
      ]
     },
     "execution_count": 33,
     "metadata": {},
     "output_type": "execute_result"
    }
   ],
   "source": [
    "predict_cnn(data)"
   ]
  },
  {
   "cell_type": "code",
   "execution_count": null,
   "metadata": {},
   "outputs": [],
   "source": [
    "ar_resize = ar_resize[np.newaxis, np.newaxis, :, :]\n",
    "ts_resize = torch.from_numpy(ar_resize.astype('float32'))\n",
    "\n",
    "# バッチサイズ1なので、1つ目の出力だけ取り出す\n",
    "output = model(ts_resize)[0]\n",
    "s_output = pd.Series(output.detach().numpy())\n",
    "s_softmax_output = np.exp(s_output)/np.sum(np.exp(s_output))"
   ]
  },
  {
   "cell_type": "code",
   "execution_count": 14,
   "metadata": {},
   "outputs": [
    {
     "data": {
      "text/plain": [
       "<AxesSubplot: >"
      ]
     },
     "execution_count": 14,
     "metadata": {},
     "output_type": "execute_result"
    },
    {
     "data": {
      "image/png": "[encoded data removed]",
      "text/plain": [
       "<Figure size 640x480 with 1 Axes>"
      ]
     },
     "metadata": {},
     "output_type": "display_data"
    }
   ],
   "source": [
    "s_softmax_output.plot.bar()"
   ]
  },
  {
   "cell_type": "markdown",
   "metadata": {},
   "source": [
    "# リクエスト"
   ]
  },
  {
   "cell_type": "code",
   "execution_count": 6,
   "metadata": {},
   "outputs": [],
   "source": [
    "import json\n",
    "import requests"
   ]
  },
  {
   "cell_type": "code",
   "execution_count": 78,
   "metadata": {},
   "outputs": [],
   "source": [
    "header = {'Content-Type': 'application/json'}\n",
    "url3 = \"http://localhost:8000/predict_cnn\"\n",
    "#url= \"http://backend_aliases:8000/prediction\"\n",
    "# url3 = \"http://backend.docker:8000/predict_cnn\"\n",
    "\n",
    "# payload=json.dumps(result)"
   ]
  },
  {
   "cell_type": "code",
   "execution_count": 8,
   "metadata": {},
   "outputs": [
    {
     "ename": "NameError",
     "evalue": "name 'lst_data' is not defined",
     "output_type": "error",
     "traceback": [
      "\u001b[1;31m---------------------------------------------------------------------------\u001b[0m",
      "\u001b[1;31mNameError\u001b[0m                                 Traceback (most recent call last)",
      "\u001b[1;32m~\\AppData\\Local\\Temp\\ipykernel_11648\\3282742511.py\u001b[0m in \u001b[0;36m<module>\u001b[1;34m\u001b[0m\n\u001b[1;32m----> 1\u001b[1;33m \u001b[0mdata\u001b[0m \u001b[1;33m=\u001b[0m \u001b[0mjson\u001b[0m\u001b[1;33m.\u001b[0m\u001b[0mdumps\u001b[0m\u001b[1;33m(\u001b[0m\u001b[0mlst_data\u001b[0m\u001b[1;33m)\u001b[0m\u001b[1;33m\u001b[0m\u001b[1;33m\u001b[0m\u001b[0m\n\u001b[0m",
      "\u001b[1;31mNameError\u001b[0m: name 'lst_data' is not defined"
     ]
    }
   ],
   "source": [
    "data = json.dumps(lst_data)"
   ]
  },
  {
   "cell_type": "code",
   "execution_count": 98,
   "metadata": {},
   "outputs": [],
   "source": [
    "data = pd.read_pickle('../frontend/data.pkl')"
   ]
  },
  {
   "cell_type": "code",
   "execution_count": 99,
   "metadata": {},
   "outputs": [
    {
     "name": "stdout",
     "output_type": "stream",
     "text": [
      "<Response [200]>\n"
     ]
    },
    {
     "data": {
      "text/plain": [
       "{'0': 0.13560277223587036,\n",
       " '1': 0.10923530906438828,\n",
       " '2': 0.14221177995204926,\n",
       " '3': 0.10495632141828537,\n",
       " '4': 0.035899244248867035,\n",
       " '5': 0.1136384829878807,\n",
       " '6': 0.06832670420408249,\n",
       " '7': 0.060915008187294006,\n",
       " '8': 0.11713291704654694,\n",
       " '9': 0.11208144575357437}"
      ]
     },
     "execution_count": 99,
     "metadata": {},
     "output_type": "execute_result"
    }
   ],
   "source": [
    "lst_data = ar_resize.tolist()\n",
    "# data = json.dumps(lst_data)\n",
    "response = requests.request(\"POST\", url3, headers=header, data=data)\n",
    "print(response)\n",
    "d = json.loads(response.content)\n",
    "d"
   ]
  }
 ],
 "metadata": {
  "kernelspec": {
   "display_name": "base",
   "language": "python",
   "name": "python3"
  },
  "language_info": {
   "codemirror_mode": {
    "name": "ipython",
    "version": 3
   },
   "file_extension": ".py",
   "mimetype": "text/x-python",
   "name": "python",
   "nbconvert_exporter": "python",
   "pygments_lexer": "ipython3",
   "version": "3.9.15"
  },
  "orig_nbformat": 4,
  "vscode": {
   "interpreter": {
    "hash": "fdf1e076e938ac0066532987c2dceb98ed632582aff6c33b4c1aaf4dcf1f4555"
   }
  }
 },
 "nbformat": 4,
 "nbformat_minor": 2
}
